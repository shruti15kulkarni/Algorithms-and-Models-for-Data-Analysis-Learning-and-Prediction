{
 "cells": [
  {
   "cell_type": "code",
   "execution_count": 72,
   "metadata": {
    "collapsed": true
   },
   "outputs": [],
   "source": [
    "library(class)"
   ]
  },
  {
   "cell_type": "markdown",
   "metadata": {},
   "source": [
    "Reading the data from CSV into data frame."
   ]
  },
  {
   "cell_type": "code",
   "execution_count": 146,
   "metadata": {
    "collapsed": true
   },
   "outputs": [],
   "source": [
    "German <-read.csv(\"Desktop/german_credit_data1.csv\",stringsAsFactors=FALSE)"
   ]
  },
  {
   "cell_type": "code",
   "execution_count": 3,
   "metadata": {
    "collapsed": false
   },
   "outputs": [
    {
     "data": {
      "text/html": [
       "<table>\n",
       "<thead><tr><th scope=col>X.</th><th scope=col>Age</th><th scope=col>Sex</th><th scope=col>Job</th><th scope=col>Housing</th><th scope=col>Saving.accounts</th><th scope=col>Checking.account</th><th scope=col>Credit.amount</th><th scope=col>Duration</th><th scope=col>Purpose</th><th scope=col>Credit.Risks</th></tr></thead>\n",
       "<tbody>\n",
       "\t<tr><td>0                  </td><td>67                 </td><td>male               </td><td>2                  </td><td>own                </td><td>NA                 </td><td>little             </td><td>1169               </td><td> 6                 </td><td>radio/TV           </td><td>1                  </td></tr>\n",
       "\t<tr><td>1                  </td><td>22                 </td><td>female             </td><td>2                  </td><td>own                </td><td>little             </td><td>moderate           </td><td>5951               </td><td>48                 </td><td>radio/TV           </td><td>2                  </td></tr>\n",
       "\t<tr><td>2                  </td><td>49                 </td><td>male               </td><td>1                  </td><td>own                </td><td>little             </td><td>NA                 </td><td>2096               </td><td>12                 </td><td>education          </td><td>1                  </td></tr>\n",
       "\t<tr><td>3                  </td><td>45                 </td><td>male               </td><td>2                  </td><td>free               </td><td>little             </td><td>little             </td><td>7882               </td><td>42                 </td><td>furniture/equipment</td><td>1                  </td></tr>\n",
       "\t<tr><td>4                  </td><td>53                 </td><td>male               </td><td>2                  </td><td>free               </td><td>little             </td><td>little             </td><td>4870               </td><td>24                 </td><td>car                </td><td>2                  </td></tr>\n",
       "\t<tr><td>5                  </td><td>35                 </td><td>male               </td><td>1                  </td><td>free               </td><td>NA                 </td><td>NA                 </td><td>9055               </td><td>36                 </td><td>education          </td><td>1                  </td></tr>\n",
       "</tbody>\n",
       "</table>\n"
      ],
      "text/latex": [
       "\\begin{tabular}{r|lllllllllll}\n",
       " X. & Age & Sex & Job & Housing & Saving.accounts & Checking.account & Credit.amount & Duration & Purpose & Credit.Risks\\\\\n",
       "\\hline\n",
       "\t 0                   & 67                  & male                & 2                   & own                 & NA                  & little              & 1169                &  6                  & radio/TV            & 1                  \\\\\n",
       "\t 1                   & 22                  & female              & 2                   & own                 & little              & moderate            & 5951                & 48                  & radio/TV            & 2                  \\\\\n",
       "\t 2                   & 49                  & male                & 1                   & own                 & little              & NA                  & 2096                & 12                  & education           & 1                  \\\\\n",
       "\t 3                   & 45                  & male                & 2                   & free                & little              & little              & 7882                & 42                  & furniture/equipment & 1                  \\\\\n",
       "\t 4                   & 53                  & male                & 2                   & free                & little              & little              & 4870                & 24                  & car                 & 2                  \\\\\n",
       "\t 5                   & 35                  & male                & 1                   & free                & NA                  & NA                  & 9055                & 36                  & education           & 1                  \\\\\n",
       "\\end{tabular}\n"
      ],
      "text/markdown": [
       "\n",
       "X. | Age | Sex | Job | Housing | Saving.accounts | Checking.account | Credit.amount | Duration | Purpose | Credit.Risks | \n",
       "|---|---|---|---|---|---|\n",
       "| 0                   | 67                  | male                | 2                   | own                 | NA                  | little              | 1169                |  6                  | radio/TV            | 1                   | \n",
       "| 1                   | 22                  | female              | 2                   | own                 | little              | moderate            | 5951                | 48                  | radio/TV            | 2                   | \n",
       "| 2                   | 49                  | male                | 1                   | own                 | little              | NA                  | 2096                | 12                  | education           | 1                   | \n",
       "| 3                   | 45                  | male                | 2                   | free                | little              | little              | 7882                | 42                  | furniture/equipment | 1                   | \n",
       "| 4                   | 53                  | male                | 2                   | free                | little              | little              | 4870                | 24                  | car                 | 2                   | \n",
       "| 5                   | 35                  | male                | 1                   | free                | NA                  | NA                  | 9055                | 36                  | education           | 1                   | \n",
       "\n",
       "\n"
      ],
      "text/plain": [
       "  X. Age Sex    Job Housing Saving.accounts Checking.account Credit.amount\n",
       "1 0  67  male   2   own     NA              little           1169         \n",
       "2 1  22  female 2   own     little          moderate         5951         \n",
       "3 2  49  male   1   own     little          NA               2096         \n",
       "4 3  45  male   2   free    little          little           7882         \n",
       "5 4  53  male   2   free    little          little           4870         \n",
       "6 5  35  male   1   free    NA              NA               9055         \n",
       "  Duration Purpose             Credit.Risks\n",
       "1  6       radio/TV            1           \n",
       "2 48       radio/TV            2           \n",
       "3 12       education           1           \n",
       "4 42       furniture/equipment 1           \n",
       "5 24       car                 2           \n",
       "6 36       education           1           "
      ]
     },
     "metadata": {},
     "output_type": "display_data"
    }
   ],
   "source": [
    "head(German)"
   ]
  },
  {
   "cell_type": "markdown",
   "metadata": {},
   "source": [
    "Normalise the required columns. [1]"
   ]
  },
  {
   "cell_type": "code",
   "execution_count": 147,
   "metadata": {
    "collapsed": false
   },
   "outputs": [],
   "source": [
    "German$X <- NULL\n",
    "German$Purpose <- NULL\n",
    "German$Age <- scale(German$Age)\n",
    "German$Credit.amount <- scale(German$Credit.amount)\n",
    "German$Duration <- scale(German$Duration)"
   ]
  },
  {
   "cell_type": "markdown",
   "metadata": {},
   "source": [
    "Data after scaling."
   ]
  },
  {
   "cell_type": "code",
   "execution_count": 57,
   "metadata": {
    "collapsed": false
   },
   "outputs": [
    {
     "data": {
      "text/html": [
       "<table>\n",
       "<thead><tr><th scope=col>Age</th><th scope=col>Sex</th><th scope=col>Job</th><th scope=col>Housing</th><th scope=col>Saving.accounts</th><th scope=col>Checking.account</th><th scope=col>Credit.amount</th><th scope=col>Duration</th><th scope=col>Credit.Risks</th></tr></thead>\n",
       "<tbody>\n",
       "\t<tr><td> 2.76507291</td><td>2          </td><td>2          </td><td>2          </td><td>1          </td><td>2          </td><td>-0.7447588 </td><td>-1.2358595 </td><td>1          </td></tr>\n",
       "\t<tr><td>-1.19080809</td><td>1          </td><td>2          </td><td>2          </td><td>2          </td><td>3          </td><td> 0.9493418 </td><td> 2.2470700 </td><td>2          </td></tr>\n",
       "\t<tr><td> 1.18272051</td><td>2          </td><td>1          </td><td>2          </td><td>2          </td><td>1          </td><td>-0.4163541 </td><td>-0.7382981 </td><td>1          </td></tr>\n",
       "\t<tr><td> 0.83108664</td><td>2          </td><td>2          </td><td>1          </td><td>2          </td><td>2          </td><td> 1.6334296 </td><td> 1.7495086 </td><td>1          </td></tr>\n",
       "\t<tr><td> 1.53435438</td><td>2          </td><td>2          </td><td>1          </td><td>2          </td><td>2          </td><td> 0.5663801 </td><td> 0.2568246 </td><td>2          </td></tr>\n",
       "\t<tr><td>-0.04799802</td><td>2          </td><td>1          </td><td>1          </td><td>1          </td><td>1          </td><td> 2.0489838 </td><td> 1.2519473 </td><td>1          </td></tr>\n",
       "</tbody>\n",
       "</table>\n"
      ],
      "text/latex": [
       "\\begin{tabular}{r|lllllllll}\n",
       " Age & Sex & Job & Housing & Saving.accounts & Checking.account & Credit.amount & Duration & Credit.Risks\\\\\n",
       "\\hline\n",
       "\t  2.76507291 & 2           & 2           & 2           & 1           & 2           & -0.7447588  & -1.2358595  & 1          \\\\\n",
       "\t -1.19080809 & 1           & 2           & 2           & 2           & 3           &  0.9493418  &  2.2470700  & 2          \\\\\n",
       "\t  1.18272051 & 2           & 1           & 2           & 2           & 1           & -0.4163541  & -0.7382981  & 1          \\\\\n",
       "\t  0.83108664 & 2           & 2           & 1           & 2           & 2           &  1.6334296  &  1.7495086  & 1          \\\\\n",
       "\t  1.53435438 & 2           & 2           & 1           & 2           & 2           &  0.5663801  &  0.2568246  & 2          \\\\\n",
       "\t -0.04799802 & 2           & 1           & 1           & 1           & 1           &  2.0489838  &  1.2519473  & 1          \\\\\n",
       "\\end{tabular}\n"
      ],
      "text/markdown": [
       "\n",
       "Age | Sex | Job | Housing | Saving.accounts | Checking.account | Credit.amount | Duration | Credit.Risks | \n",
       "|---|---|---|---|---|---|\n",
       "|  2.76507291 | 2           | 2           | 2           | 1           | 2           | -0.7447588  | -1.2358595  | 1           | \n",
       "| -1.19080809 | 1           | 2           | 2           | 2           | 3           |  0.9493418  |  2.2470700  | 2           | \n",
       "|  1.18272051 | 2           | 1           | 2           | 2           | 1           | -0.4163541  | -0.7382981  | 1           | \n",
       "|  0.83108664 | 2           | 2           | 1           | 2           | 2           |  1.6334296  |  1.7495086  | 1           | \n",
       "|  1.53435438 | 2           | 2           | 1           | 2           | 2           |  0.5663801  |  0.2568246  | 2           | \n",
       "| -0.04799802 | 2           | 1           | 1           | 1           | 1           |  2.0489838  |  1.2519473  | 1           | \n",
       "\n",
       "\n"
      ],
      "text/plain": [
       "  Age         Sex Job Housing Saving.accounts Checking.account Credit.amount\n",
       "1  2.76507291 2   2   2       1               2                -0.7447588   \n",
       "2 -1.19080809 1   2   2       2               3                 0.9493418   \n",
       "3  1.18272051 2   1   2       2               1                -0.4163541   \n",
       "4  0.83108664 2   2   1       2               2                 1.6334296   \n",
       "5  1.53435438 2   2   1       2               2                 0.5663801   \n",
       "6 -0.04799802 2   1   1       1               1                 2.0489838   \n",
       "  Duration   Credit.Risks\n",
       "1 -1.2358595 1           \n",
       "2  2.2470700 2           \n",
       "3 -0.7382981 1           \n",
       "4  1.7495086 1           \n",
       "5  0.2568246 2           \n",
       "6  1.2519473 1           "
      ]
     },
     "metadata": {},
     "output_type": "display_data"
    }
   ],
   "source": [
    "head(German)"
   ]
  },
  {
   "cell_type": "markdown",
   "metadata": {},
   "source": [
    "Factoring the required columns."
   ]
  },
  {
   "cell_type": "code",
   "execution_count": 148,
   "metadata": {
    "collapsed": false
   },
   "outputs": [],
   "source": [
    "German[is.na(German)] <- \"N/A\"\n",
    "German$Sex <- factor(German$Sex, labels = c(\"1\",\"2\"))\n",
    "German$Housing <- factor(German$Housing, labels = c(\"1\",\"2\",\"3\"))\n",
    "German$Saving.accounts <- factor(German$Saving.accounts, labels = c(\"1\",\"2\",\"3\",\"4\",\"5\"))\n",
    "German$Checking.account <- factor(German$Checking.account, labels = c(\"1\",\"2\",\"3\",\"4\"))"
   ]
  },
  {
   "cell_type": "markdown",
   "metadata": {},
   "source": [
    "Data after Factoring."
   ]
  },
  {
   "cell_type": "code",
   "execution_count": 53,
   "metadata": {
    "collapsed": false,
    "scrolled": false
   },
   "outputs": [
    {
     "data": {
      "text/html": [
       "<table>\n",
       "<thead><tr><th scope=col>Age</th><th scope=col>Sex</th><th scope=col>Job</th><th scope=col>Housing</th><th scope=col>Saving.accounts</th><th scope=col>Checking.account</th><th scope=col>Credit.amount</th><th scope=col>Duration</th><th scope=col>Credit.Risks</th></tr></thead>\n",
       "<tbody>\n",
       "\t<tr><td> 2.76507291</td><td>2          </td><td>2          </td><td>2          </td><td>1          </td><td>2          </td><td>-0.7447588 </td><td>-1.2358595 </td><td>1          </td></tr>\n",
       "\t<tr><td>-1.19080809</td><td>1          </td><td>2          </td><td>2          </td><td>2          </td><td>3          </td><td> 0.9493418 </td><td> 2.2470700 </td><td>2          </td></tr>\n",
       "\t<tr><td> 1.18272051</td><td>2          </td><td>1          </td><td>2          </td><td>2          </td><td>1          </td><td>-0.4163541 </td><td>-0.7382981 </td><td>1          </td></tr>\n",
       "\t<tr><td> 0.83108664</td><td>2          </td><td>2          </td><td>1          </td><td>2          </td><td>2          </td><td> 1.6334296 </td><td> 1.7495086 </td><td>1          </td></tr>\n",
       "\t<tr><td> 1.53435438</td><td>2          </td><td>2          </td><td>1          </td><td>2          </td><td>2          </td><td> 0.5663801 </td><td> 0.2568246 </td><td>2          </td></tr>\n",
       "\t<tr><td>-0.04799802</td><td>2          </td><td>1          </td><td>1          </td><td>1          </td><td>1          </td><td> 2.0489838 </td><td> 1.2519473 </td><td>1          </td></tr>\n",
       "</tbody>\n",
       "</table>\n"
      ],
      "text/latex": [
       "\\begin{tabular}{r|lllllllll}\n",
       " Age & Sex & Job & Housing & Saving.accounts & Checking.account & Credit.amount & Duration & Credit.Risks\\\\\n",
       "\\hline\n",
       "\t  2.76507291 & 2           & 2           & 2           & 1           & 2           & -0.7447588  & -1.2358595  & 1          \\\\\n",
       "\t -1.19080809 & 1           & 2           & 2           & 2           & 3           &  0.9493418  &  2.2470700  & 2          \\\\\n",
       "\t  1.18272051 & 2           & 1           & 2           & 2           & 1           & -0.4163541  & -0.7382981  & 1          \\\\\n",
       "\t  0.83108664 & 2           & 2           & 1           & 2           & 2           &  1.6334296  &  1.7495086  & 1          \\\\\n",
       "\t  1.53435438 & 2           & 2           & 1           & 2           & 2           &  0.5663801  &  0.2568246  & 2          \\\\\n",
       "\t -0.04799802 & 2           & 1           & 1           & 1           & 1           &  2.0489838  &  1.2519473  & 1          \\\\\n",
       "\\end{tabular}\n"
      ],
      "text/markdown": [
       "\n",
       "Age | Sex | Job | Housing | Saving.accounts | Checking.account | Credit.amount | Duration | Credit.Risks | \n",
       "|---|---|---|---|---|---|\n",
       "|  2.76507291 | 2           | 2           | 2           | 1           | 2           | -0.7447588  | -1.2358595  | 1           | \n",
       "| -1.19080809 | 1           | 2           | 2           | 2           | 3           |  0.9493418  |  2.2470700  | 2           | \n",
       "|  1.18272051 | 2           | 1           | 2           | 2           | 1           | -0.4163541  | -0.7382981  | 1           | \n",
       "|  0.83108664 | 2           | 2           | 1           | 2           | 2           |  1.6334296  |  1.7495086  | 1           | \n",
       "|  1.53435438 | 2           | 2           | 1           | 2           | 2           |  0.5663801  |  0.2568246  | 2           | \n",
       "| -0.04799802 | 2           | 1           | 1           | 1           | 1           |  2.0489838  |  1.2519473  | 1           | \n",
       "\n",
       "\n"
      ],
      "text/plain": [
       "  Age         Sex Job Housing Saving.accounts Checking.account Credit.amount\n",
       "1  2.76507291 2   2   2       1               2                -0.7447588   \n",
       "2 -1.19080809 1   2   2       2               3                 0.9493418   \n",
       "3  1.18272051 2   1   2       2               1                -0.4163541   \n",
       "4  0.83108664 2   2   1       2               2                 1.6334296   \n",
       "5  1.53435438 2   2   1       2               2                 0.5663801   \n",
       "6 -0.04799802 2   1   1       1               1                 2.0489838   \n",
       "  Duration   Credit.Risks\n",
       "1 -1.2358595 1           \n",
       "2  2.2470700 2           \n",
       "3 -0.7382981 1           \n",
       "4  1.7495086 1           \n",
       "5  0.2568246 2           \n",
       "6  1.2519473 1           "
      ]
     },
     "metadata": {},
     "output_type": "display_data"
    }
   ],
   "source": [
    "head(German)"
   ]
  },
  {
   "cell_type": "markdown",
   "metadata": {},
   "source": [
    "Applying knn for k = 0.8 and calculating misclassification rate."
   ]
  },
  {
   "cell_type": "code",
   "execution_count": 149,
   "metadata": {
    "collapsed": false
   },
   "outputs": [
    {
     "name": "stdout",
     "output_type": "stream",
     "text": [
      "[1] 0.35\n",
      "[1] 0.37\n",
      "[1] 0.355\n",
      "[1] 0.37\n",
      "[1] 0.365\n",
      "[1] 0.34\n",
      "[1] 0.33\n",
      "[1] 0.315\n",
      "[1] 0.335\n",
      "[1] 0.305\n",
      "[1] 0.305\n",
      "[1] 0.31\n",
      "[1] 0.295\n",
      "[1] 0.305\n",
      "[1] 0.29\n",
      "[1] 0.3\n",
      "[1] 0.32\n",
      "[1] 0.32\n",
      "[1] 0.33\n",
      "[1] 0.33\n"
     ]
    }
   ],
   "source": [
    "n.points <- nrow(German)\n",
    "sampling.rate <- 0.8\n",
    "training <- sample(1:n.points,0.8 * npoints, replace = FALSE)\n",
    "train <- subset(German[training,],)\n",
    "testing <- setdiff(1:n.points, training) \n",
    "test_set_labels <- 0.2 * n.points\n",
    "test<-subset(German[testing,],)\n",
    "cr<- German$Credit.Risks[training]\n",
    "truelabels <- German$Credit.Risks[testing]  \n",
    "error_rate <- data.frame()   \n",
    "for (k in 1:20){\n",
    "    \n",
    "        predicted <- knn(train, test, cr, k)     \n",
    "        incorrectlabels <- sum(predicted != truelabels)   \n",
    "        misclassification_rate1 <- incorrectlabels / test_set_labels\n",
    "        print(misclassification_rate1)\n",
    "        #error_rate <- c(misclassification_rate1)\n",
    "        error_rate<-rbind(error_rate,c(k,misclassification_rate1))\n",
    "    }\n",
    "    "
   ]
  },
  {
   "cell_type": "markdown",
   "metadata": {},
   "source": [
    "Applying knn for k = 0.7 and calculating misclassification rate."
   ]
  },
  {
   "cell_type": "code",
   "execution_count": 151,
   "metadata": {
    "collapsed": false
   },
   "outputs": [
    {
     "name": "stdout",
     "output_type": "stream",
     "text": [
      "[1] 0.3933333\n",
      "[1] 0.4333333\n",
      "[1] 0.4033333\n",
      "[1] 0.3633333\n",
      "[1] 0.3433333\n",
      "[1] 0.3433333\n",
      "[1] 0.32\n",
      "[1] 0.33\n",
      "[1] 0.3366667\n",
      "[1] 0.3366667\n",
      "[1] 0.34\n",
      "[1] 0.3466667\n",
      "[1] 0.35\n",
      "[1] 0.34\n",
      "[1] 0.3366667\n",
      "[1] 0.3433333\n",
      "[1] 0.3366667\n",
      "[1] 0.3366667\n",
      "[1] 0.3266667\n",
      "[1] 0.3333333\n"
     ]
    }
   ],
   "source": [
    "n.points <- nrow(German)\n",
    "sampling.rate <- 0.7\n",
    "training <- sample(1:n.points,0.7 * npoints, replace = FALSE)\n",
    "train <- subset(German[training,],)\n",
    "testing <- setdiff(1:n.points, training) \n",
    "test_set_labels <- 0.3 * n.points\n",
    "test<-subset(German[testing,],)\n",
    "cr<- German$Credit.Risks[training]\n",
    "truelabels <- German$Credit.Risks[testing]    \n",
    "for (k in 1:20){\n",
    "    \n",
    "        predicted <- knn(train, test, cr, k)     \n",
    "        incorrectlabels <- sum(predicted != truelabels)   \n",
    "        misclassification_rate2 <- incorrectlabels / test_set_labels\n",
    "        print(misclassification_rate2)\n",
    "        error_rate[k,3]<-misclassification_rate2\n",
    "    }\n",
    "    "
   ]
  },
  {
   "cell_type": "markdown",
   "metadata": {},
   "source": [
    "Applying knn for k = 0.6 and calculating misclassification rate."
   ]
  },
  {
   "cell_type": "code",
   "execution_count": 153,
   "metadata": {
    "collapsed": false
   },
   "outputs": [
    {
     "name": "stdout",
     "output_type": "stream",
     "text": [
      "[1] 0.315\n",
      "[1] 0.3725\n",
      "[1] 0.3625\n",
      "[1] 0.3425\n",
      "[1] 0.3375\n",
      "[1] 0.305\n",
      "[1] 0.315\n",
      "[1] 0.325\n",
      "[1] 0.3\n",
      "[1] 0.29\n",
      "[1] 0.2825\n",
      "[1] 0.2875\n",
      "[1] 0.2825\n",
      "[1] 0.2925\n",
      "[1] 0.2775\n",
      "[1] 0.2775\n",
      "[1] 0.28\n",
      "[1] 0.2825\n",
      "[1] 0.2775\n",
      "[1] 0.2825\n"
     ]
    }
   ],
   "source": [
    "n.points <- nrow(German)\n",
    "sampling.rate <- 0.6\n",
    "training <- sample(1:n.points,0.6 * npoints, replace = FALSE)\n",
    "train <- subset(German[training,],)\n",
    "testing <- setdiff(1:n.points, training) \n",
    "test_set_labels <- 0.4 * n.points\n",
    "test<-subset(German[testing,],)\n",
    "cr<- German$Credit.Risks[training]\n",
    "truelabels <- German$Credit.Risks[testing]    \n",
    "for (k in 1:20){\n",
    "    \n",
    "        predicted <- knn(train, test, cr, k)     \n",
    "        incorrectlabels <- sum(predicted != truelabels)   \n",
    "        misclassification_rate3 <- incorrectlabels / test_set_labels\n",
    "        print(misclassification_rate3)\n",
    "        error_rate[k,4]<-misclassification_rate3\n",
    "    }\n",
    "    "
   ]
  },
  {
   "cell_type": "markdown",
   "metadata": {},
   "source": [
    "Applying knn for k = 0.5 and calculating misclassification rate."
   ]
  },
  {
   "cell_type": "code",
   "execution_count": 154,
   "metadata": {
    "collapsed": false
   },
   "outputs": [
    {
     "name": "stdout",
     "output_type": "stream",
     "text": [
      "[1] 0.398\n",
      "[1] 0.4\n",
      "[1] 0.362\n",
      "[1] 0.35\n",
      "[1] 0.34\n",
      "[1] 0.344\n",
      "[1] 0.342\n",
      "[1] 0.34\n",
      "[1] 0.336\n",
      "[1] 0.336\n",
      "[1] 0.332\n",
      "[1] 0.336\n",
      "[1] 0.324\n",
      "[1] 0.326\n",
      "[1] 0.322\n",
      "[1] 0.342\n",
      "[1] 0.326\n",
      "[1] 0.322\n",
      "[1] 0.326\n",
      "[1] 0.328\n"
     ]
    }
   ],
   "source": [
    "n.points <- nrow(German)\n",
    "sampling.rate <- 0.5\n",
    "training <- sample(1:n.points,0.5 * npoints, replace = FALSE)\n",
    "train <- subset(German[training,],)\n",
    "testing <- setdiff(1:n.points, training) \n",
    "test_set_labels <- 0.5 * n.points\n",
    "test<-subset(German[testing,],)\n",
    "cr<- German$Credit.Risks[training]\n",
    "truelabels <- German$Credit.Risks[testing]    \n",
    "for (k in 1:20){\n",
    "    \n",
    "        predicted <- knn(train, test, cr, k)     \n",
    "        incorrectlabels <- sum(predicted != truelabels)   \n",
    "        misclassification_rate4 <- incorrectlabels / test_set_labels\n",
    "        print(misclassification_rate4)\n",
    "        error_rate[k,5]<-misclassification_rate4\n",
    "    }\n",
    "    "
   ]
  },
  {
   "cell_type": "markdown",
   "metadata": {},
   "source": [
    "Assigning column names."
   ]
  },
  {
   "cell_type": "code",
   "execution_count": 156,
   "metadata": {
    "collapsed": false
   },
   "outputs": [
    {
     "data": {
      "text/html": [
       "<table>\n",
       "<thead><tr><th scope=col>k</th><th scope=col>k=0.8</th><th scope=col>k=0.7</th><th scope=col>k=0.6</th><th scope=col>k=0.5</th></tr></thead>\n",
       "<tbody>\n",
       "\t<tr><td> 1       </td><td>0.350    </td><td>0.3933333</td><td>0.3150   </td><td>0.398    </td></tr>\n",
       "\t<tr><td> 2       </td><td>0.370    </td><td>0.4333333</td><td>0.3725   </td><td>0.400    </td></tr>\n",
       "\t<tr><td> 3       </td><td>0.355    </td><td>0.4033333</td><td>0.3625   </td><td>0.362    </td></tr>\n",
       "\t<tr><td> 4       </td><td>0.370    </td><td>0.3633333</td><td>0.3425   </td><td>0.350    </td></tr>\n",
       "\t<tr><td> 5       </td><td>0.365    </td><td>0.3433333</td><td>0.3375   </td><td>0.340    </td></tr>\n",
       "\t<tr><td> 6       </td><td>0.340    </td><td>0.3433333</td><td>0.3050   </td><td>0.344    </td></tr>\n",
       "\t<tr><td> 7       </td><td>0.330    </td><td>0.3200000</td><td>0.3150   </td><td>0.342    </td></tr>\n",
       "\t<tr><td> 8       </td><td>0.315    </td><td>0.3300000</td><td>0.3250   </td><td>0.340    </td></tr>\n",
       "\t<tr><td> 9       </td><td>0.335    </td><td>0.3366667</td><td>0.3000   </td><td>0.336    </td></tr>\n",
       "\t<tr><td>10       </td><td>0.305    </td><td>0.3366667</td><td>0.2900   </td><td>0.336    </td></tr>\n",
       "\t<tr><td>11       </td><td>0.305    </td><td>0.3400000</td><td>0.2825   </td><td>0.332    </td></tr>\n",
       "\t<tr><td>12       </td><td>0.310    </td><td>0.3466667</td><td>0.2875   </td><td>0.336    </td></tr>\n",
       "\t<tr><td>13       </td><td>0.295    </td><td>0.3500000</td><td>0.2825   </td><td>0.324    </td></tr>\n",
       "\t<tr><td>14       </td><td>0.305    </td><td>0.3400000</td><td>0.2925   </td><td>0.326    </td></tr>\n",
       "\t<tr><td>15       </td><td>0.290    </td><td>0.3366667</td><td>0.2775   </td><td>0.322    </td></tr>\n",
       "\t<tr><td>16       </td><td>0.300    </td><td>0.3433333</td><td>0.2775   </td><td>0.342    </td></tr>\n",
       "\t<tr><td>17       </td><td>0.320    </td><td>0.3366667</td><td>0.2800   </td><td>0.326    </td></tr>\n",
       "\t<tr><td>18       </td><td>0.320    </td><td>0.3366667</td><td>0.2825   </td><td>0.322    </td></tr>\n",
       "\t<tr><td>19       </td><td>0.330    </td><td>0.3266667</td><td>0.2775   </td><td>0.326    </td></tr>\n",
       "\t<tr><td>20       </td><td>0.330    </td><td>0.3333333</td><td>0.2825   </td><td>0.328    </td></tr>\n",
       "</tbody>\n",
       "</table>\n"
      ],
      "text/latex": [
       "\\begin{tabular}{r|lllll}\n",
       " k & k=0.8 & k=0.7 & k=0.6 & k=0.5\\\\\n",
       "\\hline\n",
       "\t  1        & 0.350     & 0.3933333 & 0.3150    & 0.398    \\\\\n",
       "\t  2        & 0.370     & 0.4333333 & 0.3725    & 0.400    \\\\\n",
       "\t  3        & 0.355     & 0.4033333 & 0.3625    & 0.362    \\\\\n",
       "\t  4        & 0.370     & 0.3633333 & 0.3425    & 0.350    \\\\\n",
       "\t  5        & 0.365     & 0.3433333 & 0.3375    & 0.340    \\\\\n",
       "\t  6        & 0.340     & 0.3433333 & 0.3050    & 0.344    \\\\\n",
       "\t  7        & 0.330     & 0.3200000 & 0.3150    & 0.342    \\\\\n",
       "\t  8        & 0.315     & 0.3300000 & 0.3250    & 0.340    \\\\\n",
       "\t  9        & 0.335     & 0.3366667 & 0.3000    & 0.336    \\\\\n",
       "\t 10        & 0.305     & 0.3366667 & 0.2900    & 0.336    \\\\\n",
       "\t 11        & 0.305     & 0.3400000 & 0.2825    & 0.332    \\\\\n",
       "\t 12        & 0.310     & 0.3466667 & 0.2875    & 0.336    \\\\\n",
       "\t 13        & 0.295     & 0.3500000 & 0.2825    & 0.324    \\\\\n",
       "\t 14        & 0.305     & 0.3400000 & 0.2925    & 0.326    \\\\\n",
       "\t 15        & 0.290     & 0.3366667 & 0.2775    & 0.322    \\\\\n",
       "\t 16        & 0.300     & 0.3433333 & 0.2775    & 0.342    \\\\\n",
       "\t 17        & 0.320     & 0.3366667 & 0.2800    & 0.326    \\\\\n",
       "\t 18        & 0.320     & 0.3366667 & 0.2825    & 0.322    \\\\\n",
       "\t 19        & 0.330     & 0.3266667 & 0.2775    & 0.326    \\\\\n",
       "\t 20        & 0.330     & 0.3333333 & 0.2825    & 0.328    \\\\\n",
       "\\end{tabular}\n"
      ],
      "text/markdown": [
       "\n",
       "k | k=0.8 | k=0.7 | k=0.6 | k=0.5 | \n",
       "|---|---|---|---|---|---|---|---|---|---|---|---|---|---|---|---|---|---|---|---|\n",
       "|  1        | 0.350     | 0.3933333 | 0.3150    | 0.398     | \n",
       "|  2        | 0.370     | 0.4333333 | 0.3725    | 0.400     | \n",
       "|  3        | 0.355     | 0.4033333 | 0.3625    | 0.362     | \n",
       "|  4        | 0.370     | 0.3633333 | 0.3425    | 0.350     | \n",
       "|  5        | 0.365     | 0.3433333 | 0.3375    | 0.340     | \n",
       "|  6        | 0.340     | 0.3433333 | 0.3050    | 0.344     | \n",
       "|  7        | 0.330     | 0.3200000 | 0.3150    | 0.342     | \n",
       "|  8        | 0.315     | 0.3300000 | 0.3250    | 0.340     | \n",
       "|  9        | 0.335     | 0.3366667 | 0.3000    | 0.336     | \n",
       "| 10        | 0.305     | 0.3366667 | 0.2900    | 0.336     | \n",
       "| 11        | 0.305     | 0.3400000 | 0.2825    | 0.332     | \n",
       "| 12        | 0.310     | 0.3466667 | 0.2875    | 0.336     | \n",
       "| 13        | 0.295     | 0.3500000 | 0.2825    | 0.324     | \n",
       "| 14        | 0.305     | 0.3400000 | 0.2925    | 0.326     | \n",
       "| 15        | 0.290     | 0.3366667 | 0.2775    | 0.322     | \n",
       "| 16        | 0.300     | 0.3433333 | 0.2775    | 0.342     | \n",
       "| 17        | 0.320     | 0.3366667 | 0.2800    | 0.326     | \n",
       "| 18        | 0.320     | 0.3366667 | 0.2825    | 0.322     | \n",
       "| 19        | 0.330     | 0.3266667 | 0.2775    | 0.326     | \n",
       "| 20        | 0.330     | 0.3333333 | 0.2825    | 0.328     | \n",
       "\n",
       "\n"
      ],
      "text/plain": [
       "   k  k=0.8 k=0.7     k=0.6  k=0.5\n",
       "1   1 0.350 0.3933333 0.3150 0.398\n",
       "2   2 0.370 0.4333333 0.3725 0.400\n",
       "3   3 0.355 0.4033333 0.3625 0.362\n",
       "4   4 0.370 0.3633333 0.3425 0.350\n",
       "5   5 0.365 0.3433333 0.3375 0.340\n",
       "6   6 0.340 0.3433333 0.3050 0.344\n",
       "7   7 0.330 0.3200000 0.3150 0.342\n",
       "8   8 0.315 0.3300000 0.3250 0.340\n",
       "9   9 0.335 0.3366667 0.3000 0.336\n",
       "10 10 0.305 0.3366667 0.2900 0.336\n",
       "11 11 0.305 0.3400000 0.2825 0.332\n",
       "12 12 0.310 0.3466667 0.2875 0.336\n",
       "13 13 0.295 0.3500000 0.2825 0.324\n",
       "14 14 0.305 0.3400000 0.2925 0.326\n",
       "15 15 0.290 0.3366667 0.2775 0.322\n",
       "16 16 0.300 0.3433333 0.2775 0.342\n",
       "17 17 0.320 0.3366667 0.2800 0.326\n",
       "18 18 0.320 0.3366667 0.2825 0.322\n",
       "19 19 0.330 0.3266667 0.2775 0.326\n",
       "20 20 0.330 0.3333333 0.2825 0.328"
      ]
     },
     "metadata": {},
     "output_type": "display_data"
    }
   ],
   "source": [
    "names(error_rate) <- c(\"k\",\"k=0.8\",\"k=0.7\",\"k=0.6\",\"k=0.5\")\n",
    "error_rate"
   ]
  },
  {
   "cell_type": "code",
   "execution_count": null,
   "metadata": {
    "collapsed": true
   },
   "outputs": [],
   "source": []
  }
 ],
 "metadata": {
  "kernelspec": {
   "display_name": "R",
   "language": "R",
   "name": "ir"
  },
  "language_info": {
   "codemirror_mode": "r",
   "file_extension": ".r",
   "mimetype": "text/x-r-source",
   "name": "R",
   "pygments_lexer": "r",
   "version": "3.3.2"
  }
 },
 "nbformat": 4,
 "nbformat_minor": 2
}
